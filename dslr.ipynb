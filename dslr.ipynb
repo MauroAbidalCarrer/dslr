{
 "cells": [
  {
   "attachments": {},
   "cell_type": "markdown",
   "metadata": {},
   "source": [
    "# Data Science X Logistic Regression\n",
    "\n",
    "This school project is an introduction to data cleaning, visualization and model training."
   ]
  },
  {
   "attachments": {},
   "cell_type": "markdown",
   "metadata": {},
   "source": [
    "## Data loading"
   ]
  },
  {
   "cell_type": "code",
   "execution_count": 6,
   "metadata": {
    "vscode": {
     "languageId": "shellscript"
    }
   },
   "outputs": [
    {
     "name": "stdout",
     "output_type": "stream",
     "text": [
      "--2023-09-02 16:33:55--  https://cdn.intra.42.fr/document/document/12379/datasets.tgz\n",
      "Resolving cdn.intra.42.fr (cdn.intra.42.fr)... 163.172.250.39\n",
      "Connecting to cdn.intra.42.fr (cdn.intra.42.fr)|163.172.250.39|:443... connected.\n"
     ]
    },
    {
     "name": "stdout",
     "output_type": "stream",
     "text": [
      "HTTP request sent, awaiting response... 200 OK\n",
      "Length: 493568 (482K) [application/octet-stream]\n",
      "Saving to: ‘datasets.tgz.1’\n",
      "\n",
      "datasets.tgz.1      100%[===================>] 482.00K  --.-KB/s    in 0.1s    \n",
      "\n",
      "2023-09-02 16:33:56 (3.77 MB/s) - ‘datasets.tgz.1’ saved [493568/493568]\n",
      "\n",
      "datasets/\n",
      "datasets/dataset_test.csv\n",
      "datasets/dataset_train.csv\n"
     ]
    }
   ],
   "source": [
    "# The first thing we need to do is to download and the dataset that we will be working with.\n",
    "!wget https://cdn.intra.42.fr/document/document/12379/datasets.tgz\n",
    "\n",
    "# Then, unzip it.\n",
    "!tar -xvf datasets.tgz\n",
    "\n",
    "#And remove the zip file.\n",
    "!rm datasets.tgz"
   ]
  },
  {
   "cell_type": "code",
   "execution_count": 10,
   "metadata": {},
   "outputs": [
    {
     "name": "stdout",
     "output_type": "stream",
     "text": [
      "['Left', 'Right', 'Left', 'Left', 'Left', 'Right', 'Left', 'Right', 'Left', 'Right', 'Right', 'Left', 'Right', 'Left', 'Right', 'Left', 'Left', 'Left', 'Right', 'Right', 'Left', 'Left', 'Left', 'Left', 'Left', 'Left', 'Left', 'Right', 'Left', 'Right', 'Left', 'Left', 'Right', 'Right', 'Right', 'Right', 'Right', 'Right', 'Right', 'Right', 'Left', 'Right', 'Left', 'Right', 'Left', 'Right', 'Left', 'Right', 'Left', 'Left', 'Right', 'Right', 'Right', 'Right', 'Left', 'Left', 'Left', 'Right', 'Right', 'Right', 'Right', 'Left', 'Left', 'Right', 'Right', 'Left', 'Right', 'Right', 'Left', 'Right', 'Right', 'Right', 'Right', 'Left', 'Left', 'Left', 'Left', 'Right', 'Left', 'Right', 'Left', 'Right', 'Right', 'Right', 'Right', 'Left', 'Right', 'Left', 'Left', 'Right', 'Right', 'Left', 'Left', 'Right', 'Right', 'Left', 'Left', 'Left', 'Right', 'Right', 'Left', 'Left', 'Left', 'Right', 'Right', 'Right', 'Right', 'Right', 'Left', 'Left', 'Right', 'Right', 'Right', 'Left', 'Right', 'Right', 'Right', 'Right', 'Left', 'Left', 'Left', 'Left', 'Right', 'Right', 'Right', 'Left', 'Right', 'Right', 'Right', 'Left', 'Left', 'Left', 'Right', 'Right', 'Left', 'Right', 'Left', 'Right', 'Left', 'Left', 'Right', 'Right', 'Left', 'Left', 'Left', 'Right', 'Left', 'Right', 'Right', 'Left', 'Left', 'Left', 'Left', 'Right', 'Left', 'Right', 'Left', 'Right', 'Left', 'Right', 'Left', 'Right', 'Left', 'Left', 'Left', 'Right', 'Left', 'Right', 'Left', 'Left', 'Right', 'Left', 'Right', 'Right', 'Left', 'Right', 'Right', 'Right', 'Right', 'Right', 'Right', 'Right', 'Left', 'Right', 'Left', 'Left', 'Left', 'Left', 'Left', 'Left', 'Left', 'Left', 'Left', 'Left', 'Right', 'Right', 'Right', 'Right', 'Right', 'Right', 'Right', 'Right', 'Right', 'Left', 'Right', 'Right', 'Left', 'Right', 'Left', 'Right', 'Right', 'Right', 'Right', 'Right', 'Left', 'Right', 'Right', 'Left', 'Right', 'Left', 'Right', 'Right', 'Right', 'Right', 'Left', 'Right', 'Left', 'Left', 'Left', 'Right', 'Left', 'Right', 'Left', 'Left', 'Left', 'Left', 'Right', 'Right', 'Left', 'Left', 'Left', 'Left', 'Left', 'Left', 'Left', 'Left', 'Left', 'Right', 'Right', 'Right', 'Right', 'Left', 'Left', 'Left', 'Right', 'Left', 'Left', 'Left', 'Left', 'Left', 'Right', 'Left', 'Right', 'Right', 'Right', 'Left', 'Left', 'Right', 'Right', 'Right', 'Right', 'Left', 'Right', 'Right', 'Left', 'Left', 'Left', 'Left', 'Right', 'Left', 'Right', 'Left', 'Right', 'Left', 'Left', 'Left', 'Left', 'Left', 'Left', 'Right', 'Left', 'Left', 'Right', 'Left', 'Right', 'Left', 'Left', 'Left', 'Left', 'Left', 'Right', 'Right', 'Right', 'Right', 'Right', 'Right', 'Right', 'Right', 'Right', 'Right', 'Right', 'Left', 'Right', 'Right', 'Right', 'Left', 'Right', 'Left', 'Right', 'Left', 'Right', 'Left', 'Left', 'Right', 'Right', 'Right', 'Right', 'Left', 'Left', 'Right', 'Left', 'Right', 'Left', 'Right', 'Left', 'Left', 'Left', 'Right', 'Right', 'Right', 'Left', 'Right', 'Left', 'Left', 'Left', 'Right', 'Left', 'Right', 'Left', 'Right', 'Right', 'Right', 'Left', 'Right', 'Right', 'Right', 'Left', 'Left', 'Right', 'Right', 'Left', 'Left', 'Right', 'Left', 'Left', 'Right', 'Right', 'Right', 'Right', 'Right', 'Right', 'Right', 'Left', 'Right', 'Right', 'Right', 'Left', 'Left', 'Right', 'Right', 'Right', 'Left', 'Left', 'Left', 'Right', 'Left', 'Left', 'Right', 'Left', 'Left', 'Left', 'Right', 'Right', 'Left', 'Left', 'Left', 'Left', 'Left', 'Right', 'Right', 'Left', 'Left', 'Left', 'Right', 'Right', 'Left', 'Right', 'Left', 'Left', 'Left', 'Left', 'Right', 'Left', 'Right', 'Right', 'Right', 'Left', 'Right', 'Left', 'Left', 'Left', 'Left', 'Right', 'Left', 'Right', 'Left', 'Right', 'Left', 'Left', 'Right', 'Right', 'Right', 'Left', 'Left', 'Left', 'Right', 'Left', 'Left', 'Left', 'Left', 'Left', 'Right', 'Right', 'Left', 'Left', 'Right', 'Right', 'Left', 'Right', 'Left', 'Right', 'Right', 'Left', 'Right', 'Right', 'Left', 'Left', 'Right', 'Left', 'Right', 'Right', 'Left', 'Left', 'Left', 'Left', 'Left', 'Right', 'Left', 'Left', 'Left', 'Right', 'Left', 'Left', 'Right', 'Left', 'Left', 'Right', 'Right', 'Right', 'Right', 'Left', 'Right', 'Left', 'Right', 'Right', 'Left', 'Left', 'Right', 'Left', 'Right', 'Left', 'Right', 'Left', 'Right', 'Left', 'Left', 'Left', 'Right', 'Right', 'Left', 'Left', 'Left', 'Left', 'Left', 'Left', 'Right', 'Right', 'Right', 'Right', 'Left', 'Right', 'Left', 'Left', 'Right', 'Left', 'Left', 'Right', 'Left', 'Right', 'Right', 'Right', 'Right', 'Right', 'Left', 'Left', 'Left', 'Right', 'Right', 'Right', 'Right', 'Right', 'Right', 'Left', 'Right', 'Right', 'Left', 'Left', 'Right', 'Left', 'Left', 'Right', 'Left', 'Left', 'Left', 'Right', 'Right', 'Right', 'Left', 'Left', 'Left', 'Left', 'Right', 'Left', 'Left', 'Right', 'Right', 'Left', 'Left', 'Right', 'Left', 'Right', 'Right', 'Left', 'Right', 'Left', 'Right', 'Right', 'Right', 'Right', 'Right', 'Left', 'Right', 'Left', 'Left', 'Left', 'Left', 'Left', 'Right', 'Left', 'Right', 'Right', 'Right', 'Right', 'Right', 'Right', 'Right', 'Right', 'Left', 'Left', 'Right', 'Right', 'Right', 'Left', 'Right', 'Left', 'Left', 'Left', 'Right', 'Right', 'Right', 'Left', 'Right', 'Left', 'Left', 'Right', 'Left', 'Right', 'Right', 'Right', 'Right', 'Right', 'Left', 'Left', 'Right', 'Right', 'Right', 'Right', 'Left', 'Right', 'Left', 'Right', 'Right', 'Left', 'Left', 'Right', 'Right', 'Right', 'Left', 'Left', 'Left', 'Right', 'Right', 'Left', 'Left', 'Right', 'Right', 'Left', 'Right', 'Left', 'Left', 'Left', 'Right', 'Left', 'Left', 'Left', 'Right', 'Left', 'Right', 'Right', 'Right', 'Right', 'Right', 'Right', 'Left', 'Right', 'Left', 'Right', 'Left', 'Left', 'Right', 'Left', 'Left', 'Right', 'Left', 'Left', 'Right', 'Left', 'Left', 'Left', 'Left', 'Right', 'Right', 'Right', 'Right', 'Right', 'Right', 'Left', 'Right', 'Left', 'Left', 'Left', 'Left', 'Left', 'Right', 'Right', 'Right', 'Left', 'Left', 'Right', 'Right', 'Left', 'Left', 'Left', 'Left', 'Right', 'Left', 'Right', 'Left', 'Left', 'Right', 'Right', 'Left', 'Right', 'Right', 'Left', 'Right', 'Left', 'Right', 'Right', 'Left', 'Right', 'Left', 'Left', 'Right', 'Right', 'Left', 'Left', 'Left', 'Left', 'Left', 'Left', 'Right', 'Left', 'Left', 'Right', 'Left', 'Right', 'Left', 'Right', 'Right', 'Right', 'Left', 'Left', 'Right', 'Right', 'Left', 'Right', 'Right', 'Left', 'Left', 'Right', 'Left', 'Right', 'Left', 'Right', 'Right', 'Right', 'Left', 'Right', 'Right', 'Left', 'Left', 'Left', 'Left', 'Left', 'Right', 'Left', 'Right', 'Left', 'Left', 'Left', 'Right', 'Left', 'Left', 'Right', 'Left', 'Left', 'Left', 'Left', 'Left', 'Left', 'Left', 'Right', 'Left', 'Left', 'Left', 'Right', 'Left', 'Right', 'Left', 'Left', 'Left', 'Right', 'Left', 'Left', 'Left', 'Left', 'Left', 'Left', 'Right', 'Left', 'Right', 'Right', 'Left', 'Right', 'Right', 'Right', 'Right', 'Left', 'Left', 'Right', 'Left', 'Left', 'Right', 'Right', 'Left', 'Right', 'Right', 'Left', 'Left', 'Right', 'Left', 'Right', 'Left', 'Left', 'Right', 'Left', 'Right', 'Left', 'Right', 'Left', 'Left', 'Left', 'Right', 'Left', 'Right', 'Right', 'Right', 'Left', 'Right', 'Right', 'Left', 'Left', 'Left', 'Right', 'Left', 'Left', 'Right', 'Right', 'Right', 'Right', 'Left', 'Right', 'Left', 'Right', 'Left', 'Right', 'Right', 'Right', 'Left', 'Right', 'Left', 'Right', 'Right', 'Right', 'Right', 'Left', 'Left', 'Left', 'Left', 'Right', 'Right', 'Left', 'Right', 'Left', 'Left', 'Left', 'Right', 'Right', 'Left', 'Right', 'Right', 'Left', 'Right', 'Right', 'Left', 'Right', 'Left', 'Right', 'Left', 'Right', 'Left', 'Left', 'Right', 'Left', 'Right', 'Right', 'Right', 'Right', 'Right', 'Left', 'Right', 'Right', 'Right', 'Right', 'Left', 'Left', 'Right', 'Right', 'Left', 'Left', 'Right', 'Left', 'Left', 'Right', 'Right', 'Right', 'Left', 'Left', 'Right', 'Left', 'Right', 'Left', 'Right', 'Left', 'Right', 'Right', 'Left', 'Left', 'Right', 'Right', 'Right', 'Right', 'Right', 'Right', 'Right', 'Left', 'Right', 'Left', 'Right', 'Right', 'Right', 'Right', 'Left', 'Right', 'Right', 'Right', 'Left', 'Left', 'Left', 'Left', 'Right', 'Right', 'Left', 'Right', 'Right', 'Right', 'Left', 'Right', 'Right', 'Right', 'Left', 'Left', 'Right', 'Left', 'Left', 'Right', 'Right', 'Left', 'Left', 'Right', 'Left', 'Right', 'Left', 'Left', 'Right', 'Left', 'Left', 'Left', 'Left', 'Right', 'Right', 'Right', 'Left', 'Right', 'Right', 'Right', 'Left', 'Right', 'Right', 'Right', 'Right', 'Left', 'Left', 'Right', 'Right', 'Left', 'Left', 'Left', 'Left', 'Right', 'Right', 'Left', 'Left', 'Left', 'Left', 'Left', 'Right', 'Left', 'Right', 'Left', 'Right', 'Right', 'Left', 'Left', 'Right', 'Right', 'Right', 'Right', 'Right', 'Right', 'Right', 'Right', 'Right', 'Left', 'Right', 'Right', 'Right', 'Right', 'Right', 'Right', 'Left', 'Left', 'Right', 'Left', 'Right', 'Right', 'Left', 'Left', 'Left', 'Right', 'Left', 'Right', 'Right', 'Left', 'Left', 'Left', 'Right', 'Left', 'Left', 'Right', 'Left', 'Left', 'Left', 'Right', 'Right', 'Left', 'Right', 'Left', 'Right', 'Left', 'Left', 'Right', 'Left', 'Right', 'Right', 'Left', 'Right', 'Left', 'Left', 'Right', 'Right', 'Left', 'Left', 'Left', 'Right', 'Left', 'Left', 'Left', 'Left', 'Left', 'Right', 'Left', 'Left', 'Left', 'Left', 'Right', 'Left', 'Right', 'Left', 'Right', 'Left', 'Left', 'Left', 'Left', 'Right', 'Right', 'Right', 'Left', 'Right', 'Right', 'Right', 'Right', 'Right', 'Right', 'Right', 'Left', 'Left', 'Left', 'Right', 'Left', 'Right', 'Left', 'Right', 'Left', 'Right', 'Right', 'Left', 'Left', 'Left', 'Left', 'Right', 'Right', 'Right', 'Left', 'Left', 'Right', 'Right', 'Left', 'Left', 'Right', 'Right', 'Right', 'Left', 'Right', 'Right', 'Right', 'Left', 'Right', 'Right', 'Left', 'Right', 'Left', 'Right', 'Left', 'Left', 'Left', 'Left', 'Left', 'Left', 'Left', 'Right', 'Right', 'Right', 'Left', 'Right', 'Left', 'Left', 'Right', 'Right', 'Left', 'Right', 'Left', 'Right', 'Left', 'Left', 'Right', 'Left', 'Left', 'Left', 'Left', 'Right', 'Right', 'Left', 'Left', 'Right', 'Right', 'Left', 'Right', 'Left', 'Right', 'Right', 'Left', 'Right', 'Right', 'Right', 'Left', 'Left', 'Right', 'Left', 'Left', 'Left', 'Right', 'Left', 'Left', 'Left', 'Left', 'Right', 'Left', 'Left', 'Left', 'Left', 'Right', 'Right', 'Right', 'Right', 'Right', 'Right', 'Right', 'Left', 'Left', 'Left', 'Right', 'Left', 'Left', 'Left', 'Right', 'Left', 'Right', 'Right', 'Right', 'Right', 'Left', 'Left', 'Right', 'Right', 'Right', 'Left', 'Right', 'Left', 'Left', 'Left', 'Left', 'Right', 'Left', 'Right', 'Left', 'Left', 'Right', 'Right', 'Right', 'Left', 'Left', 'Right', 'Left', 'Right', 'Right', 'Left', 'Left', 'Left', 'Right', 'Right', 'Right', 'Right', 'Right', 'Left', 'Left', 'Left', 'Left', 'Left', 'Right', 'Right', 'Left', 'Left', 'Left', 'Left', 'Left', 'Right', 'Left', 'Right', 'Right', 'Right', 'Right', 'Right', 'Right', 'Right', 'Left', 'Left', 'Right', 'Right', 'Right', 'Left', 'Left', 'Right', 'Left', 'Right', 'Left', 'Left', 'Right', 'Right', 'Left', 'Left', 'Right', 'Right', 'Right', 'Right', 'Right', 'Left', 'Right', 'Right', 'Left', 'Left', 'Right', 'Left', 'Right', 'Right', 'Left', 'Left', 'Right', 'Right', 'Right', 'Left', 'Left', 'Left', 'Left', 'Right', 'Left', 'Left', 'Right', 'Right', 'Left', 'Left', 'Left', 'Right', 'Right', 'Left', 'Right', 'Right', 'Right', 'Right', 'Left', 'Left', 'Left', 'Left', 'Right', 'Left', 'Left', 'Right', 'Right', 'Left', 'Left', 'Left', 'Left', 'Right', 'Right', 'Right', 'Left', 'Left', 'Right', 'Left', 'Left', 'Left', 'Right', 'Right', 'Right', 'Right', 'Left', 'Left', 'Left', 'Right', 'Left', 'Right', 'Left', 'Right', 'Left', 'Left', 'Right', 'Right', 'Left', 'Left', 'Left', 'Right', 'Left', 'Left', 'Left', 'Left', 'Right', 'Left', 'Right', 'Right', 'Left', 'Left', 'Left', 'Right', 'Right', 'Right', 'Right', 'Right', 'Left', 'Right', 'Right', 'Left', 'Left', 'Right', 'Right', 'Left', 'Left', 'Right', 'Right', 'Left', 'Right', 'Left', 'Right', 'Right', 'Left', 'Right', 'Right', 'Left', 'Right', 'Left', 'Left', 'Left', 'Right', 'Right', 'Right', 'Right', 'Right', 'Right', 'Left', 'Left', 'Right', 'Left', 'Left', 'Right', 'Left', 'Left', 'Right', 'Left', 'Left', 'Left', 'Right', 'Right', 'Left', 'Right', 'Left', 'Right', 'Right', 'Right', 'Right', 'Right', 'Left', 'Right', 'Right', 'Left', 'Right', 'Left', 'Right', 'Right', 'Left', 'Right', 'Right', 'Left', 'Right', 'Left', 'Left', 'Right', 'Right', 'Right', 'Right', 'Left', 'Right', 'Right', 'Left', 'Right', 'Right', 'Right', 'Left', 'Left', 'Left', 'Left', 'Left', 'Right', 'Left', 'Left', 'Right', 'Left', 'Left', 'Left', 'Left', 'Left', 'Left', 'Left', 'Right', 'Right', 'Right', 'Right', 'Left', 'Left', 'Right', 'Left', 'Left', 'Left', 'Left', 'Right', 'Left', 'Right', 'Right', 'Left', 'Right', 'Right', 'Left', 'Left', 'Left', 'Right', 'Right', 'Right', 'Left', 'Right', 'Left', 'Right', 'Right', 'Right', 'Left', 'Right', 'Right', 'Right', 'Right', 'Left', 'Right', 'Right', 'Right', 'Left', 'Left', 'Right', 'Right', 'Right', 'Right', 'Right', 'Right', 'Right', 'Left', 'Right', 'Left', 'Right', 'Left', 'Right', 'Right', 'Right', 'Left', 'Left', 'Right', 'Left', 'Right', 'Left', 'Left', 'Left', 'Left', 'Right', 'Right', 'Left', 'Left', 'Left', 'Left', 'Right', 'Right', 'Right', 'Right', 'Right', 'Right', 'Right', 'Right', 'Right', 'Right', 'Right', 'Right', 'Left', 'Right', 'Right', 'Left', 'Left', 'Left', 'Left', 'Right', 'Right', 'Left', 'Left', 'Left', 'Right', 'Right', 'Right', 'Right', 'Left', 'Left', 'Right', 'Right', 'Left', 'Left', 'Right', 'Right', 'Right', 'Right', 'Left', 'Left', 'Left', 'Right', 'Left', 'Left', 'Right', 'Right', 'Left', 'Right', 'Right', 'Right', 'Left', 'Left', 'Right', 'Left', 'Right', 'Left', 'Left']\n"
     ]
    }
   ],
   "source": [
    "#Let's load the data using CSV package(since we can't use pandas).\n",
    "import csv\n",
    "from collections import defaultdict\n",
    "\n",
    "columns = defaultdict(list) \n",
    "\n",
    "with open(\"./datasets/dataset_train.csv\") as training_dataset_file:\n",
    "    reader = csv.DictReader(training_dataset_file) # read rows into a dictionary format\n",
    "    for row in reader: # read a row as {column1: value1, column2: value2,...}\n",
    "        for (k,v) in row.items(): # go over each column name and value \n",
    "            columns[k].append(v) # append the value into the appropriate list based on column name k"
   ]
  },
  {
   "attachments": {},
   "cell_type": "markdown",
   "metadata": {},
   "source": [
    "## Data preprocessing"
   ]
  },
  {
   "cell_type": "code",
   "execution_count": null,
   "metadata": {},
   "outputs": [],
   "source": [
    "# Some colums have missing values.\n",
    "# Let's fill missing numerical values by the median of their respective colum.\n",
    "for i in range(6, columns.items)\n",
    "\n",
    "# Let's remove the unecessary columns date of birth, names and the index.\n",
    "\n",
    "columns.clear"
   ]
  }
 ],
 "metadata": {
  "kernelspec": {
   "display_name": "Python 3",
   "language": "python",
   "name": "python3"
  },
  "language_info": {
   "codemirror_mode": {
    "name": "ipython",
    "version": 3
   },
   "file_extension": ".py",
   "mimetype": "text/x-python",
   "name": "python",
   "nbconvert_exporter": "python",
   "pygments_lexer": "ipython3",
   "version": "3.9.2"
  },
  "orig_nbformat": 4
 },
 "nbformat": 4,
 "nbformat_minor": 2
}
