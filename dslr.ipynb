{
 "cells": [
  {
   "attachments": {},
   "cell_type": "markdown",
   "metadata": {},
   "source": [
    "# Data Science X Logistic Regression\n",
    "\n",
    "This school project is an introduction to data cleaning, visualization and model training."
   ]
  },
  {
   "attachments": {},
   "cell_type": "markdown",
   "metadata": {},
   "source": [
    "## Data retrieval"
   ]
  },
  {
   "cell_type": "code",
   "execution_count": null,
   "metadata": {
    "vscode": {
     "languageId": "shellscript"
    }
   },
   "outputs": [],
   "source": [
    "# The first thing we need to do is to download and the dataset that we will be working with.\n",
    "!wget https://cdn.intra.42.fr/document/document/12379/datasets.tgz\n",
    "\n",
    "# Then, unzip it.\n",
    "!tar -xvf datasets.tgz\n",
    "\n",
    "#And remove the zip file.\n",
    "!rm datasets.tgz"
   ]
  },
  {
   "attachments": {},
   "cell_type": "markdown",
   "metadata": {},
   "source": [
    "## Data preprocessing\n",
    "\n",
    "preprocessing tasks:  \n",
    "-  remove unecessary data\n",
    "-  fill in missing numerical values by the median of their respective columns\n",
    "-  fill in missing categorical values by the most frequent of their respective columns\n",
    "-  move the target values into a separate array"
   ]
  },
  {
   "cell_type": "code",
   "execution_count": null,
   "metadata": {},
   "outputs": [],
   "source": [
    "import numpy as np  # Importing the numpy library, which provides support for working with arrays and matrices.\n",
    "\n",
    "# Load the header of the CSV file.\n",
    "header = np.genfromtxt('./datasets/dataset_train.csv', delimiter=',', dtype=str, max_rows=1)  # Reads the CSV file and extracts only the first row (header).\n",
    "\n",
    "# Define dictionaries for mapping values.\n",
    "hand_mapping = {'Left': '0', 'Right': '1'}  # Dictionary to convert \"Best Hand\" column values to numerical values.\n",
    "house_mapping = {'Ravenclaw': '0', 'Slytherin': '1', 'Gryffindor': '2', 'Hufflepuff': '3'}  # Dictionary to convert \"Hogwarts House\" column values to numerical values.\n",
    "\n",
    "# Determine indices of columns to be dropped.\n",
    "columns_to_drop = ['Index', 'First Name', 'Last Name', 'Birthday']  # List of column names to be dropped.\n",
    "indices_to_drop = [np.where(header == col_name)[0][0] for col_name in columns_to_drop]  # Find the index of each column name to be dropped in the header.\n",
    "\n",
    "# Load the CSV without the header and drop the specified columns.\n",
    "data = np.genfromtxt('/mnt/data/dataset_train.csv', delimiter=',', dtype=str, skip_header=1)  # Reads the CSV file, skipping the header.\n",
    "data_without_dropped_cols = np.delete(data, indices_to_drop, axis=1)  # Deletes the specified columns.\n",
    "\n",
    "\n",
    "# Fill \"Best Hand\" missing values by the most frequent best hand value.\n",
    "hand_values, counts = np.unique(data[:, 5], return_counts=True)\n",
    "most_frequent_value = hand_values[np.argmax(counts)]\n",
    "\n",
    "# Convert \"Best Hand\" values into numerical values.\n",
    "best_hand_index = np.where(header == 'Best Hand')[0][0]  # Find the index of the \"Best Hand\" column in the header.\n",
    "for i, row in enumerate(data_without_dropped_cols):  # Loop through each row of data.\n",
    "    data_without_dropped_cols[i, best_hand_index] = hand_mapping.get(row[best_hand_index], row[best_hand_index])  # Replace the string value with its corresponding numerical value using the hand_mapping dictionary.\n",
    "\n",
    "# Extract Hogwarts house values and convert them to numerical values.\n",
    "house_index = np.where(header == 'Hogwarts House')[0][0]  # Find the index of the \"Hogwarts House\" column in the header.\n",
    "houses_array = np.array([[house_mapping[row[house_index]]] for row in data_without_dropped_cols])  # Create a new 2D array with numerical values for houses.\n",
    "\n",
    "# Remove the Hogwarts house column from the main dataset.\n",
    "data_without_houses = np.delete(data_without_dropped_cols, house_index, axis=1)  # Delete the \"Hogwarts House\" column.\n",
    "\n",
    "# Convert the data into floats and handle missing values.\n",
    "data_without_houses[data_without_houses == ''] = np.nan  # Replace empty strings with np.nan, which represents \"Not a Number\".\n",
    "data_float = data_without_houses.astype(np.float64)  # Convert the data to float type.\n",
    "for col in range(data_float.shape[1]):  # Loop through each column.\n",
    "    median = np.nanmedian(data_float[:, col])  # Calculate the median of the column, ignoring nan values.\n",
    "    nan_indices = np.isnan(data_float[:, col])  # Find the indices of nan values in the column.\n",
    "    data_float[nan_indices, col] = median  # Replace nan values with the median.\n",
    "\n"
   ]
  }
 ],
 "metadata": {
  "kernelspec": {
   "display_name": "Python 3",
   "language": "python",
   "name": "python3"
  },
  "language_info": {
   "codemirror_mode": {
    "name": "ipython",
    "version": 3
   },
   "file_extension": ".py",
   "mimetype": "text/x-python",
   "name": "python",
   "nbconvert_exporter": "python",
   "pygments_lexer": "ipython3",
   "version": "3.9.2"
  },
  "orig_nbformat": 4
 },
 "nbformat": 4,
 "nbformat_minor": 2
}
